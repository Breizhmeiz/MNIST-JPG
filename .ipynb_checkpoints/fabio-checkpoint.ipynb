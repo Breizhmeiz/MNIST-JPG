{
 "cells": [
  {
   "cell_type": "markdown",
   "id": "805a7607",
   "metadata": {},
   "source": [
    "# Reconnaissance de digits manuscrits par CNN"
   ]
  },
  {
   "cell_type": "markdown",
   "id": "e84a1594",
   "metadata": {},
   "source": [
    "## Importation des Bibliothèques "
   ]
  },
  {
   "cell_type": "code",
   "execution_count": 1,
   "id": "30419043",
   "metadata": {},
   "outputs": [],
   "source": [
    "import os\n",
    "import cv2\n",
    "import matplotlib.pyplot as plt\n",
    "from sklearn.model_selection import train_test_split\n",
    "from tqdm import tqdm "
   ]
  },
  {
   "cell_type": "markdown",
   "id": "1a353515",
   "metadata": {},
   "source": [
    "## Partie 1 : Base de données, Analyse et Préparation"
   ]
  },
  {
   "cell_type": "code",
   "execution_count": 2,
   "id": "306f2b45",
   "metadata": {},
   "outputs": [
    {
     "name": "stderr",
     "output_type": "stream",
     "text": [
      " 40%|████████████████████████████████                                                | 4/10 [00:29<00:43,  7.33s/it]\n"
     ]
    },
    {
     "ename": "KeyboardInterrupt",
     "evalue": "",
     "output_type": "error",
     "traceback": [
      "\u001b[1;31m---------------------------------------------------------------------------\u001b[0m",
      "\u001b[1;31mKeyboardInterrupt\u001b[0m                         Traceback (most recent call last)",
      "\u001b[1;32mC:\\Users\\UTILIS~1\\AppData\\Local\\Temp/ipykernel_3760/2082004163.py\u001b[0m in \u001b[0;36m<module>\u001b[1;34m\u001b[0m\n\u001b[0;32m     13\u001b[0m     \u001b[1;32mfor\u001b[0m \u001b[0mfile\u001b[0m \u001b[1;32min\u001b[0m \u001b[0mos\u001b[0m\u001b[1;33m.\u001b[0m\u001b[0mlistdir\u001b[0m\u001b[1;33m(\u001b[0m\u001b[0mos\u001b[0m\u001b[1;33m.\u001b[0m\u001b[0mpath\u001b[0m\u001b[1;33m.\u001b[0m\u001b[0mjoin\u001b[0m\u001b[1;33m(\u001b[0m\u001b[0mpath_test\u001b[0m\u001b[1;33m,\u001b[0m \u001b[0mfolder\u001b[0m\u001b[1;33m)\u001b[0m\u001b[1;33m)\u001b[0m\u001b[1;33m:\u001b[0m\u001b[1;33m\u001b[0m\u001b[1;33m\u001b[0m\u001b[0m\n\u001b[0;32m     14\u001b[0m         \u001b[0mimage_path\u001b[0m \u001b[1;33m=\u001b[0m \u001b[0mos\u001b[0m\u001b[1;33m.\u001b[0m\u001b[0mpath\u001b[0m\u001b[1;33m.\u001b[0m\u001b[0mjoin\u001b[0m\u001b[1;33m(\u001b[0m\u001b[0mpath_test\u001b[0m\u001b[1;33m,\u001b[0m\u001b[0mfolder\u001b[0m\u001b[1;33m,\u001b[0m\u001b[0mfile\u001b[0m\u001b[1;33m)\u001b[0m\u001b[1;33m\u001b[0m\u001b[1;33m\u001b[0m\u001b[0m\n\u001b[1;32m---> 15\u001b[1;33m         \u001b[0mData_test\u001b[0m\u001b[1;33m.\u001b[0m\u001b[0mappend\u001b[0m\u001b[1;33m(\u001b[0m\u001b[0mcv2\u001b[0m\u001b[1;33m.\u001b[0m\u001b[0mimread\u001b[0m\u001b[1;33m(\u001b[0m\u001b[0mimage_path\u001b[0m\u001b[1;33m)\u001b[0m\u001b[1;33m)\u001b[0m\u001b[1;33m\u001b[0m\u001b[1;33m\u001b[0m\u001b[0m\n\u001b[0m\u001b[0;32m     16\u001b[0m         \u001b[0mLabel_test\u001b[0m\u001b[1;33m.\u001b[0m\u001b[0mappend\u001b[0m\u001b[1;33m(\u001b[0m\u001b[0mint\u001b[0m\u001b[1;33m(\u001b[0m\u001b[0mfolder\u001b[0m\u001b[1;33m)\u001b[0m\u001b[1;33m)\u001b[0m\u001b[1;33m\u001b[0m\u001b[1;33m\u001b[0m\u001b[0m\n",
      "\u001b[1;31mKeyboardInterrupt\u001b[0m: "
     ]
    }
   ],
   "source": [
    "path_test = os.path.join(\".\", \"DataSet\", \"testing\")\n",
    "\n",
    "Data_test = []\n",
    "Label_test = []\n",
    "\n",
    "# Récursive méthode\n",
    "# for root, dir_file, file in os.walk(path_test):\n",
    "#     for f in file:\n",
    "#         image_path = os.path.join(root,f)\n",
    "#         Data_test.append(cv2.imread(image_path))\n",
    "\n",
    "for folder in tqdm(os.listdir(path_test)):\n",
    "    for file in os.listdir(os.path.join(path_test, folder)):\n",
    "        image_path = os.path.join(path_test,folder,file)\n",
    "        Data_test.append(cv2.imread(image_path))\n",
    "        Label_test.append(int(folder))"
   ]
  },
  {
   "cell_type": "code",
   "execution_count": null,
   "id": "f875b7bb",
   "metadata": {},
   "outputs": [],
   "source": [
    "path_train = os.path.join(\".\", \"DataSet\", \"training\")\n",
    "\n",
    "Data_train = []\n",
    "Label_train = []\n",
    "# for root, dir_file, file in os.walk(path_train):\n",
    "#    for f in tqdm(file):\n",
    "#        image_path = os.path.join(root,f)\n",
    "#        Data_train.append(cv2.imread(image_path))\n",
    "#        Label_train.append(root.split(\"/\")[-1])\n",
    "\n",
    "for folder in tqdm(os.listdir(path_train)):\n",
    "    for file in os.listdir(os.path.join(path_train, folder)):\n",
    "        image_path = os.path.join(path_train,folder,file)\n",
    "        Data_train.append(cv2.imread(image_path))\n",
    "        Label_train.append(int(folder))"
   ]
  },
  {
   "cell_type": "code",
   "execution_count": null,
   "id": "f520ff7b",
   "metadata": {},
   "outputs": [],
   "source": [
    "print(f\"Train : {len(Data_train)} | Test : {len(Data_test)}\")"
   ]
  },
  {
   "cell_type": "code",
   "execution_count": null,
   "id": "78c9d4f6",
   "metadata": {},
   "outputs": [],
   "source": [
    "print(f\"Train : {len(Label_train)} | Test : {len(Label_test)}\")"
   ]
  },
  {
   "cell_type": "markdown",
   "id": "6498952c",
   "metadata": {},
   "source": [
    "## Partie 2 : Architecture CNN sur Tensorflow"
   ]
  },
  {
   "cell_type": "code",
   "execution_count": null,
   "id": "dc1dc93f",
   "metadata": {},
   "outputs": [],
   "source": [
    "import tensorflow as tf\n",
    "from tensorflow.keras import datasets, layers, models\n",
    "import numpy as np"
   ]
  },
  {
   "cell_type": "code",
   "execution_count": null,
   "id": "d9302e95",
   "metadata": {},
   "outputs": [],
   "source": [
    "X_train, X_test = np.array(Data_train)/255, np.array(Data_test)/255\n",
    "y_train, y_test = np.array(Label_train), np.arrya(Label_train)"
   ]
  },
  {
   "cell_type": "code",
   "execution_count": null,
   "id": "8f134e98",
   "metadata": {},
   "outputs": [],
   "source": [
    "\n",
    "plt.figure(figsize=(10,10))\n",
    "for i in range(25):\n",
    "    plt.subplot(5,5,i+1)\n",
    "    plt.xticks([])\n",
    "    plt.yticks([])\n",
    "    plt.grid(False)\n",
    "    plt.imshow(X_train[i])\n",
    "    # The CIFAR labels happen to be arrays, \n",
    "    # which is why you need the extra index\n",
    "    plt.title(str(Label_train[i]), color=\"w\")\n",
    "plt.show()\n"
   ]
  },
  {
   "cell_type": "code",
   "execution_count": null,
   "id": "85a97c67",
   "metadata": {},
   "outputs": [],
   "source": [
    "image_shape = X_train[0].shape\n",
    "print(image_shape)"
   ]
  },
  {
   "cell_type": "code",
   "execution_count": null,
   "id": "6ca58f36",
   "metadata": {},
   "outputs": [],
   "source": [
    "model = models.Sequential()\n",
    "model.add(layers.Conv2D(32, (3, 3), activation='sigmoid', input_shape=image_shape))\n",
    "model.add(layers.MaxPooling2D((2, 2)))\n",
    "model.add(layers.Conv2D(64, (3, 3), activation='sigmoid'))\n",
    "model.add(layers.MaxPooling2D((2, 2)))\n",
    "model.add(layers.Conv2D(64, (3, 3), activation='sigmoid'))\n",
    "\n",
    "# Ajout des couches denses\n",
    "model.add(layers.Flatten())\n",
    "model.add(layers.Dense(64, activation='sigmoid'))\n",
    "model.add(layers.Dense(10))\n",
    "\n",
    "# Résumé du model\n",
    "model.summary()"
   ]
  },
  {
   "cell_type": "markdown",
   "id": "98a7c406",
   "metadata": {},
   "source": [
    "## Compilation et entraînement du modèle"
   ]
  },
  {
   "cell_type": "code",
   "execution_count": null,
   "id": "bb0e7536",
   "metadata": {},
   "outputs": [],
   "source": [
    "model.compile(optimizer='adam',\n",
    "              loss=tf.keras.losses.SparseCategoricalCrossentropy(from_logits=True),\n",
    "              metrics=['accuracy'])\n",
    "\n",
    "history = model.fit(X_train, y_train, epochs=10, \n",
    "                    validation_data=(X_test, y_test))"
   ]
  },
  {
   "cell_type": "markdown",
   "id": "2429ce2d",
   "metadata": {},
   "source": [
    "## Evaluation du modèle"
   ]
  },
  {
   "cell_type": "code",
   "execution_count": null,
   "id": "6522dacd",
   "metadata": {},
   "outputs": [],
   "source": [
    "plt.plot(history.history['val_loss'], label = \"val_loss\")\n",
    "plt.xlabel('Epoch')\n",
    "plt.ylabel(\"Loss\")\n",
    "plt.legend(loc = \"upper right\")\n",
    "plt.title(\"Loss value by epoch\")\n",
    "\n",
    "plt.show()"
   ]
  },
  {
   "cell_type": "code",
   "execution_count": null,
   "id": "0c5a3d2c",
   "metadata": {},
   "outputs": [],
   "source": [
    "plt.plot(history.history['accuracy'], label='accuracy')\n",
    "plt.plot(history.history['val_accuracy'], label = 'val_accuracy')\n",
    "plt.xlabel('Epoch')\n",
    "plt.ylabel('Accuracy')\n",
    "plt.ylim([0.92, 1])\n",
    "plt.legend(loc='lower right')\n",
    "plt.title(\"Accuracy value by epoch\")\n",
    "\n",
    "plt.show()\n",
    "\n",
    "test_loss, test_acc = model.evaluate(X_test,  y_test, verbose=2)\n"
   ]
  },
  {
   "cell_type": "code",
   "execution_count": null,
   "id": "cea12ea3",
   "metadata": {},
   "outputs": [],
   "source": [
    "y_pred = model.predict(X_test)"
   ]
  },
  {
   "cell_type": "markdown",
   "id": "65080a95",
   "metadata": {},
   "source": [
    "- Accuracy\n",
    "- Matrice de confusion\n",
    "voir  : np.expend"
   ]
  }
 ],
 "metadata": {
  "kernelspec": {
   "display_name": "Python 3 (ipykernel)",
   "language": "python",
   "name": "python3"
  },
  "language_info": {
   "codemirror_mode": {
    "name": "ipython",
    "version": 3
   },
   "file_extension": ".py",
   "mimetype": "text/x-python",
   "name": "python",
   "nbconvert_exporter": "python",
   "pygments_lexer": "ipython3",
   "version": "3.9.7"
  }
 },
 "nbformat": 4,
 "nbformat_minor": 5
}
