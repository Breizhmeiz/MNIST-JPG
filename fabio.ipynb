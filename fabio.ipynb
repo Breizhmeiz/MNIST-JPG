{
 "cells": [
  {
   "cell_type": "markdown",
   "id": "a2f5f29d",
   "metadata": {},
   "source": [
    "# Reconnaissance de digits manuscrits par CNN"
   ]
  },
  {
   "cell_type": "markdown",
   "id": "fee70163",
   "metadata": {},
   "source": [
    "## Importation des Bibliothèques "
   ]
  },
  {
   "cell_type": "code",
   "execution_count": 1,
   "id": "1303333a",
   "metadata": {},
   "outputs": [],
   "source": [
    "import os\n",
    "import cv2\n",
    "import matplotlib.pyplot as plt\n",
    "from sklearn.model_selection import train_test_split\n",
    "from tqdm import tqdm "
   ]
  },
  {
   "cell_type": "markdown",
   "id": "0a093a8e",
   "metadata": {},
   "source": [
    "## Lecture des images"
   ]
  },
  {
   "cell_type": "code",
   "execution_count": 2,
   "id": "19bce84f",
   "metadata": {},
   "outputs": [
    {
     "name": "stderr",
     "output_type": "stream",
     "text": [
      "100%|█████████████████████████████████████████████████████████████████████████████████████████████████| 10/10 [00:03<00:00,  3.09it/s]\n"
     ]
    }
   ],
   "source": [
    "path_train = os.path.join(\".\", \"DataSet\", \"training\")\n",
    "path_test = os.path.join(\".\", \"DataSet\", \"testing\")\n",
    "\n",
    "Data_test = []\n",
    "Label_test = []\n",
    "\n",
    "# Récursive méthode\n",
    "# for root, dir_file, file in os.walk(path_test):\n",
    "#     for f in file:\n",
    "#         image_path = os.path.join(root,f)\n",
    "#         Data_test.append(cv2.imread(image_path))\n",
    "\n",
    "for folder in tqdm(os.listdir(path_test)):\n",
    "    for file in os.listdir(os.path.join(path_test, folder)):\n",
    "        image_path = os.path.join(path_test,folder,file)\n",
    "        Data_test.append(cv2.imread(image_path))\n",
    "        Label_test.append(int(folder))"
   ]
  },
  {
   "cell_type": "code",
   "execution_count": 3,
   "id": "c734efc8",
   "metadata": {},
   "outputs": [
    {
     "name": "stderr",
     "output_type": "stream",
     "text": [
      "100%|█████████████████████████████████████████████████████████████████████████████████████████████████| 10/10 [00:13<00:00,  1.33s/it]\n"
     ]
    }
   ],
   "source": [
    "Data_train = []\n",
    "Label_train = []\n",
    "# for root, dir_file, file in os.walk(path_train):\n",
    "#    for f in tqdm(file):\n",
    "#        image_path = os.path.join(root,f)\n",
    "#        Data_train.append(cv2.imread(image_path))\n",
    "#        Label_train.append(root.split(\"/\")[-1])\n",
    "\n",
    "for folder in tqdm(os.listdir(path_train)):\n",
    "    for file in os.listdir(os.path.join(path_train, folder)):\n",
    "        Data_train.append(cv2.imread(image_path))\n",
    "        Label_train.append(int(folder))"
   ]
  },
  {
   "cell_type": "code",
   "execution_count": 4,
   "id": "d49cef91",
   "metadata": {},
   "outputs": [
    {
     "name": "stdout",
     "output_type": "stream",
     "text": [
      "Train : 60000 | Test : 10000\n"
     ]
    }
   ],
   "source": [
    "print(f\"Train : {len(Data_train)} | Test : {len(Data_test)}\")"
   ]
  },
  {
   "cell_type": "code",
   "execution_count": 5,
   "id": "91b8ae9f",
   "metadata": {},
   "outputs": [
    {
     "name": "stdout",
     "output_type": "stream",
     "text": [
      "Train : 60000 | Test : 10000\n"
     ]
    }
   ],
   "source": [
    "print(f\"Train : {len(Label_train)} | Test : {len(Label_test)}\")"
   ]
  },
  {
   "cell_type": "code",
   "execution_count": null,
   "id": "689503ab",
   "metadata": {},
   "outputs": [],
   "source": []
  }
 ],
 "metadata": {
  "kernelspec": {
   "display_name": "Python 3 (ipykernel)",
   "language": "python",
   "name": "python3"
  },
  "language_info": {
   "codemirror_mode": {
    "name": "ipython",
    "version": 3
   },
   "file_extension": ".py",
   "mimetype": "text/x-python",
   "name": "python",
   "nbconvert_exporter": "python",
   "pygments_lexer": "ipython3",
   "version": "3.9.7"
  }
 },
 "nbformat": 4,
 "nbformat_minor": 5
}
